{
 "cells": [
  {
   "cell_type": "code",
   "execution_count": 11,
   "id": "903abcb0-ca97-4008-a592-84754e08c063",
   "metadata": {},
   "outputs": [
    {
     "name": "stdout",
     "output_type": "stream",
     "text": [
      "Libraries Imported!\n"
     ]
    }
   ],
   "source": [
    "import pandas as pd \n",
    "import numpy as np\n",
    "from matplotlib import pyplot as plt\n",
    "import seaborn as sns\n",
    "\n",
    "print('Libraries Imported!')"
   ]
  },
  {
   "cell_type": "code",
   "execution_count": 12,
   "id": "cd8f4921-8b6f-46e7-8c22-fe12cf834441",
   "metadata": {},
   "outputs": [],
   "source": [
    "df = pd.read_csv('car_prices.csv')\n"
   ]
  },
  {
   "cell_type": "code",
   "execution_count": 13,
   "id": "b1e82d68-416b-40ac-a5ca-273052f34235",
   "metadata": {
    "scrolled": true
   },
   "outputs": [
    {
     "data": {
      "text/plain": [
       "(558837, 16)"
      ]
     },
     "execution_count": 13,
     "metadata": {},
     "output_type": "execute_result"
    }
   ],
   "source": [
    "df1 = df.copy()\n",
    "\n",
    "df1.dtypes\n",
    "df1.shape"
   ]
  },
  {
   "cell_type": "code",
   "execution_count": 209,
   "id": "1ef1e66d-2a3c-4bf3-8a4f-cf8f016b64a6",
   "metadata": {},
   "outputs": [
    {
     "name": "stdout",
     "output_type": "stream",
     "text": [
      "year              int64\n",
      "make             object\n",
      "model            object\n",
      "trim             object\n",
      "body             object\n",
      "transmission     object\n",
      "state            object\n",
      "condition       float64\n",
      "odometer        float64\n",
      "color            object\n",
      "interior         object\n",
      "seller           object\n",
      "mmr             float64\n",
      "sellingprice    float64\n",
      "saledate         object\n",
      "dtype: object\n"
     ]
    }
   ],
   "source": [
    "print(df1.dtypes)"
   ]
  },
  {
   "cell_type": "code",
   "execution_count": 44,
   "id": "03828be6-1148-4e85-a691-0a583c8118be",
   "metadata": {},
   "outputs": [
    {
     "data": {
      "text/html": [
       "<div>\n",
       "<style scoped>\n",
       "    .dataframe tbody tr th:only-of-type {\n",
       "        vertical-align: middle;\n",
       "    }\n",
       "\n",
       "    .dataframe tbody tr th {\n",
       "        vertical-align: top;\n",
       "    }\n",
       "\n",
       "    .dataframe thead th {\n",
       "        text-align: right;\n",
       "    }\n",
       "</style>\n",
       "<table border=\"1\" class=\"dataframe\">\n",
       "  <thead>\n",
       "    <tr style=\"text-align: right;\">\n",
       "      <th></th>\n",
       "      <th>year</th>\n",
       "      <th>make</th>\n",
       "      <th>model</th>\n",
       "      <th>trim</th>\n",
       "      <th>body</th>\n",
       "      <th>transmission</th>\n",
       "      <th>vin</th>\n",
       "      <th>state</th>\n",
       "      <th>condition</th>\n",
       "      <th>odometer</th>\n",
       "      <th>color</th>\n",
       "      <th>interior</th>\n",
       "      <th>seller</th>\n",
       "      <th>mmr</th>\n",
       "      <th>sellingprice</th>\n",
       "      <th>saledate</th>\n",
       "    </tr>\n",
       "  </thead>\n",
       "  <tbody>\n",
       "    <tr>\n",
       "      <th>0</th>\n",
       "      <td>2015</td>\n",
       "      <td>Kia</td>\n",
       "      <td>Sorento</td>\n",
       "      <td>LX</td>\n",
       "      <td>SUV</td>\n",
       "      <td>automatic</td>\n",
       "      <td>5xyktca69fg566472</td>\n",
       "      <td>ca</td>\n",
       "      <td>5.0</td>\n",
       "      <td>16639.0</td>\n",
       "      <td>white</td>\n",
       "      <td>black</td>\n",
       "      <td>kia motors america  inc</td>\n",
       "      <td>20500.0</td>\n",
       "      <td>21500.0</td>\n",
       "      <td>Tue Dec 16 2014 12:30:00 GMT-0800 (PST)</td>\n",
       "    </tr>\n",
       "  </tbody>\n",
       "</table>\n",
       "</div>"
      ],
      "text/plain": [
       "   year make    model trim body transmission                vin state  \\\n",
       "0  2015  Kia  Sorento   LX  SUV    automatic  5xyktca69fg566472    ca   \n",
       "\n",
       "   condition  odometer  color interior                   seller      mmr  \\\n",
       "0        5.0   16639.0  white    black  kia motors america  inc  20500.0   \n",
       "\n",
       "   sellingprice                                 saledate  \n",
       "0       21500.0  Tue Dec 16 2014 12:30:00 GMT-0800 (PST)  "
      ]
     },
     "execution_count": 44,
     "metadata": {},
     "output_type": "execute_result"
    }
   ],
   "source": [
    "df1.head(1)"
   ]
  },
  {
   "cell_type": "code",
   "execution_count": 46,
   "id": "0b405721-0f7f-4a22-97c2-13bec47b8556",
   "metadata": {},
   "outputs": [
    {
     "data": {
      "text/plain": [
       "0"
      ]
     },
     "execution_count": 46,
     "metadata": {},
     "output_type": "execute_result"
    }
   ],
   "source": [
    "df1['year'].nunique()\n",
    "df1['year'].isnull().sum()"
   ]
  },
  {
   "cell_type": "code",
   "execution_count": 48,
   "id": "39d866c2-9b18-49fa-861b-5afd93c022e0",
   "metadata": {},
   "outputs": [
    {
     "data": {
      "text/plain": [
       "10301"
      ]
     },
     "execution_count": 48,
     "metadata": {},
     "output_type": "execute_result"
    }
   ],
   "source": [
    "df1['make'].nunique()\n",
    "df1['make'].isnull().sum()"
   ]
  },
  {
   "cell_type": "code",
   "execution_count": 50,
   "id": "902aca06-9650-44be-b6a1-9b2bfcbcbf16",
   "metadata": {},
   "outputs": [
    {
     "data": {
      "text/plain": [
       "10651"
      ]
     },
     "execution_count": 50,
     "metadata": {},
     "output_type": "execute_result"
    }
   ],
   "source": [
    "df1['trim'].nunique()\n",
    "df1['trim'].isnull().sum()"
   ]
  },
  {
   "cell_type": "code",
   "execution_count": 52,
   "id": "cbd591a1-3806-494c-8b9b-158d1b58f237",
   "metadata": {},
   "outputs": [
    {
     "data": {
      "text/plain": [
       "13195"
      ]
     },
     "execution_count": 52,
     "metadata": {},
     "output_type": "execute_result"
    }
   ],
   "source": [
    "df1['body'].nunique()\n",
    "# df1['body'].describe()\n",
    "df1['body'].isnull().sum()"
   ]
  },
  {
   "cell_type": "code",
   "execution_count": 54,
   "id": "2218245b-cc27-40b5-ae6e-7191fe80689d",
   "metadata": {},
   "outputs": [
    {
     "data": {
      "text/plain": [
       "0"
      ]
     },
     "execution_count": 54,
     "metadata": {},
     "output_type": "execute_result"
    }
   ],
   "source": [
    "df1['transmission'].unique()\n",
    "#df1['transmission'].describe()\n",
    "df1['transmission'].isnull().sum()"
   ]
  },
  {
   "cell_type": "code",
   "execution_count": 56,
   "id": "d0c686c5-7195-49fb-a363-843a5a6847ac",
   "metadata": {},
   "outputs": [
    {
     "data": {
      "text/plain": [
       "10399"
      ]
     },
     "execution_count": 56,
     "metadata": {},
     "output_type": "execute_result"
    }
   ],
   "source": [
    "df1['model'].unique()\n",
    "df1['model'].isnull().sum()"
   ]
  },
  {
   "cell_type": "code",
   "execution_count": 58,
   "id": "be8cd1d5-eeb4-441f-af42-34faad93d6b8",
   "metadata": {},
   "outputs": [
    {
     "data": {
      "text/plain": [
       "0"
      ]
     },
     "execution_count": 58,
     "metadata": {},
     "output_type": "execute_result"
    }
   ],
   "source": [
    "df1['vin'].nunique()\n",
    "df1['vin'].isnull().sum()"
   ]
  },
  {
   "cell_type": "code",
   "execution_count": 59,
   "id": "eff258b4-2978-4b8e-9a01-eb7d5a4365f4",
   "metadata": {},
   "outputs": [
    {
     "data": {
      "text/plain": [
       "0"
      ]
     },
     "execution_count": 59,
     "metadata": {},
     "output_type": "execute_result"
    }
   ],
   "source": [
    "df1['state'].nunique()\n",
    "df1['state'].isnull().sum()"
   ]
  },
  {
   "cell_type": "code",
   "execution_count": 62,
   "id": "8a1c67c1-4ff0-42df-b0f5-d2757bc87d45",
   "metadata": {},
   "outputs": [
    {
     "data": {
      "text/plain": [
       "11794"
      ]
     },
     "execution_count": 62,
     "metadata": {},
     "output_type": "execute_result"
    }
   ],
   "source": [
    "df1['condition'].nunique()\n",
    "df1['condition'].isnull().sum()\n",
    "# print(df1['condition'].max())\n",
    "# print(df['condition'].min())"
   ]
  },
  {
   "cell_type": "code",
   "execution_count": 64,
   "id": "97a20b5b-9b53-4cc3-a983-1cfb45d4a211",
   "metadata": {},
   "outputs": [
    {
     "data": {
      "text/plain": [
       "94"
      ]
     },
     "execution_count": 64,
     "metadata": {},
     "output_type": "execute_result"
    }
   ],
   "source": [
    "df1['odometer'].nunique()\n",
    "df1['odometer'].isnull().sum()"
   ]
  },
  {
   "cell_type": "code",
   "execution_count": 66,
   "id": "8d00db59-262c-4667-beec-34f4a864da2a",
   "metadata": {},
   "outputs": [
    {
     "data": {
      "text/plain": [
       "749"
      ]
     },
     "execution_count": 66,
     "metadata": {},
     "output_type": "execute_result"
    }
   ],
   "source": [
    "df1['color'].nunique()\n",
    "df1['color'].isnull().sum()"
   ]
  },
  {
   "cell_type": "code",
   "execution_count": 68,
   "id": "c9ab4d40-9a2b-4ce9-a8b9-c51155387b55",
   "metadata": {},
   "outputs": [
    {
     "data": {
      "text/plain": [
       "749"
      ]
     },
     "execution_count": 68,
     "metadata": {},
     "output_type": "execute_result"
    }
   ],
   "source": [
    "df1['interior'].nunique()\n",
    "df1['interior'].isnull().sum()"
   ]
  },
  {
   "cell_type": "code",
   "execution_count": 70,
   "id": "cc0f3b21-e965-4e8d-a961-743b0eb1212b",
   "metadata": {},
   "outputs": [
    {
     "data": {
      "text/plain": [
       "0"
      ]
     },
     "execution_count": 70,
     "metadata": {},
     "output_type": "execute_result"
    }
   ],
   "source": [
    "df1['seller'].nunique()\n",
    "df1['seller'].isnull().sum()"
   ]
  },
  {
   "cell_type": "code",
   "execution_count": 72,
   "id": "ea32ce85-09b7-42d3-977c-ef16e4e0a595",
   "metadata": {},
   "outputs": [
    {
     "data": {
      "text/plain": [
       "12"
      ]
     },
     "execution_count": 72,
     "metadata": {},
     "output_type": "execute_result"
    }
   ],
   "source": [
    "df1['mmr'].nunique()\n",
    "df1['mmr'].isnull().sum()"
   ]
  },
  {
   "cell_type": "code",
   "execution_count": 74,
   "id": "104dd71e-d12f-4344-8315-b278490afef8",
   "metadata": {},
   "outputs": [
    {
     "data": {
      "text/plain": [
       "12"
      ]
     },
     "execution_count": 74,
     "metadata": {},
     "output_type": "execute_result"
    }
   ],
   "source": [
    "df1['sellingprice'].nunique()\n",
    "df1['sellingprice'].isnull().sum()"
   ]
  },
  {
   "cell_type": "code",
   "execution_count": 76,
   "id": "20c2dc9d-c293-4dc9-a0af-ca44294e8d34",
   "metadata": {},
   "outputs": [
    {
     "data": {
      "text/plain": [
       "12"
      ]
     },
     "execution_count": 76,
     "metadata": {},
     "output_type": "execute_result"
    }
   ],
   "source": [
    "df1['saledate'].nunique()\n",
    "df1['saledate'].isnull().sum()"
   ]
  },
  {
   "cell_type": "code",
   "execution_count": 78,
   "id": "a6882141-816d-4bcb-916a-5f88ae2246b0",
   "metadata": {},
   "outputs": [
    {
     "data": {
      "text/plain": [
       "<matplotlib.collections.PathCollection at 0x12fd6b6e0>"
      ]
     },
     "execution_count": 78,
     "metadata": {},
     "output_type": "execute_result"
    },
    {
     "data": {
      "image/png": "[encoded data removed]",
      "text/plain": [
       "<Figure size 640x480 with 1 Axes>"
      ]
     },
     "metadata": {},
     "output_type": "display_data"
    }
   ],
   "source": [
    "plt.scatter(x = df['year'], y = df['sellingprice'])"
   ]
  },
  {
   "cell_type": "code",
   "execution_count": 79,
   "id": "ad3f2c73-9805-48dc-a544-19bbc0594a06",
   "metadata": {},
   "outputs": [
    {
     "data": {
      "text/plain": [
       "<Axes: xlabel='transmission', ylabel='sellingprice'>"
      ]
     },
     "execution_count": 79,
     "metadata": {},
     "output_type": "execute_result"
    },
    {
     "data": {
      "image/png": "[encoded data removed]",
      "text/plain": [
       "<Figure size 640x480 with 1 Axes>"
      ]
     },
     "metadata": {},
     "output_type": "display_data"
    }
   ],
   "source": [
    "sns.barplot(x = df1['transmission'], y = df1['sellingprice'])"
   ]
  },
  {
   "cell_type": "code",
   "execution_count": 82,
   "id": "c4efa623-cdd5-4ae0-8b92-e9248e5673cf",
   "metadata": {},
   "outputs": [
    {
     "data": {
      "text/plain": [
       "transmission\n",
       "automatic    541267\n",
       "manual        17544\n",
       "Name: count, dtype: int64"
      ]
     },
     "execution_count": 82,
     "metadata": {},
     "output_type": "execute_result"
    }
   ],
   "source": [
    "df1['transmission'].value_counts()"
   ]
  },
  {
   "cell_type": "markdown",
   "id": "23104388-c507-4d8a-bb23-d7885a6c0c96",
   "metadata": {},
   "source": [
    "## Because this is a categorical value and the difference between Manual and Auto is huge, I'll use Mod and replace the values of the null values with Automatic "
   ]
  },
  {
   "cell_type": "code",
   "execution_count": 85,
   "id": "9a3594b0-980c-42c5-bc8a-8a58d4c53d24",
   "metadata": {},
   "outputs": [
    {
     "name": "stderr",
     "output_type": "stream",
     "text": [
      "/var/folders/ch/kb1qmx591n5c2yvx2fc6ffyw0000gn/T/ipykernel_65432/4186971295.py:1: FutureWarning: A value is trying to be set on a copy of a DataFrame or Series through chained assignment using an inplace method.\n",
      "The behavior will change in pandas 3.0. This inplace method will never work because the intermediate object on which we are setting values always behaves as a copy.\n",
      "\n",
      "For example, when doing 'df[col].method(value, inplace=True)', try using 'df.method({col: value}, inplace=True)' or df[col] = df[col].method(value) instead, to perform the operation inplace on the original object.\n",
      "\n",
      "\n",
      "  df1['transmission'].fillna('automatic', inplace= True)\n"
     ]
    },
    {
     "data": {
      "text/plain": [
       "0"
      ]
     },
     "execution_count": 85,
     "metadata": {},
     "output_type": "execute_result"
    }
   ],
   "source": [
    "df1['transmission'].fillna('automatic', inplace= True)\n",
    "\n",
    "df1['transmission'].isnull().sum()"
   ]
  },
  {
   "cell_type": "code",
   "execution_count": 87,
   "id": "75644333-790e-4882-9a78-260d06df2c10",
   "metadata": {},
   "outputs": [
    {
     "data": {
      "text/plain": [
       "array(['automatic', 'manual'], dtype=object)"
      ]
     },
     "execution_count": 87,
     "metadata": {},
     "output_type": "execute_result"
    }
   ],
   "source": [
    "unwanted = df1[(df1['transmission'] == 'Sedan') | (df1['transmission'] == 'sedan')].index\n",
    "df1.drop(unwanted, inplace= True)\n",
    "\n",
    "df1['transmission'].unique()"
   ]
  },
  {
   "cell_type": "markdown",
   "id": "4f58bd07-160c-457d-b736-b2003faf0fc9",
   "metadata": {},
   "source": [
    "## Now we have the values that are relavent so we can visualize this data easily."
   ]
  },
  {
   "cell_type": "code",
   "execution_count": 193,
   "id": "a8ab7220-1bb0-49c8-a4a3-ae98a1c561ee",
   "metadata": {},
   "outputs": [
    {
     "data": {
      "text/plain": [
       "<Axes: xlabel='transmission', ylabel='sellingprice'>"
      ]
     },
     "execution_count": 193,
     "metadata": {},
     "output_type": "execute_result"
    },
    {
     "data": {
      "image/png": "[encoded data removed]",
      "text/plain": [
       "<Figure size 640x480 with 1 Axes>"
      ]
     },
     "metadata": {},
     "output_type": "display_data"
    }
   ],
   "source": [
    "sns.barplot( x = df1['transmission'], y = df1['sellingprice'])"
   ]
  },
  {
   "cell_type": "markdown",
   "id": "ef769418-1166-49a5-9435-61e5f8713f51",
   "metadata": {},
   "source": [
    "## The condition value has to be fixed next "
   ]
  },
  {
   "cell_type": "code",
   "execution_count": 92,
   "id": "2d814f95-7e39-4f1f-9d62-f25113b54392",
   "metadata": {},
   "outputs": [
    {
     "name": "stderr",
     "output_type": "stream",
     "text": [
      "/var/folders/ch/kb1qmx591n5c2yvx2fc6ffyw0000gn/T/ipykernel_65432/3684880069.py:1: FutureWarning: A value is trying to be set on a copy of a DataFrame or Series through chained assignment using an inplace method.\n",
      "The behavior will change in pandas 3.0. This inplace method will never work because the intermediate object on which we are setting values always behaves as a copy.\n",
      "\n",
      "For example, when doing 'df[col].method(value, inplace=True)', try using 'df.method({col: value}, inplace=True)' or df[col] = df[col].method(value) instead, to perform the operation inplace on the original object.\n",
      "\n",
      "\n",
      "  df1['condition'].replace(range(10, 21), 1, inplace=True)\n",
      "/var/folders/ch/kb1qmx591n5c2yvx2fc6ffyw0000gn/T/ipykernel_65432/3684880069.py:2: FutureWarning: A value is trying to be set on a copy of a DataFrame or Series through chained assignment using an inplace method.\n",
      "The behavior will change in pandas 3.0. This inplace method will never work because the intermediate object on which we are setting values always behaves as a copy.\n",
      "\n",
      "For example, when doing 'df[col].method(value, inplace=True)', try using 'df.method({col: value}, inplace=True)' or df[col] = df[col].method(value) instead, to perform the operation inplace on the original object.\n",
      "\n",
      "\n",
      "  df1['condition'].replace(range(20, 31), 2, inplace=True)\n",
      "/var/folders/ch/kb1qmx591n5c2yvx2fc6ffyw0000gn/T/ipykernel_65432/3684880069.py:3: FutureWarning: A value is trying to be set on a copy of a DataFrame or Series through chained assignment using an inplace method.\n",
      "The behavior will change in pandas 3.0. This inplace method will never work because the intermediate object on which we are setting values always behaves as a copy.\n",
      "\n",
      "For example, when doing 'df[col].method(value, inplace=True)', try using 'df.method({col: value}, inplace=True)' or df[col] = df[col].method(value) instead, to perform the operation inplace on the original object.\n",
      "\n",
      "\n",
      "  df1['condition'].replace(range(30, 41), 3, inplace=True)\n",
      "/var/folders/ch/kb1qmx591n5c2yvx2fc6ffyw0000gn/T/ipykernel_65432/3684880069.py:4: FutureWarning: A value is trying to be set on a copy of a DataFrame or Series through chained assignment using an inplace method.\n",
      "The behavior will change in pandas 3.0. This inplace method will never work because the intermediate object on which we are setting values always behaves as a copy.\n",
      "\n",
      "For example, when doing 'df[col].method(value, inplace=True)', try using 'df.method({col: value}, inplace=True)' or df[col] = df[col].method(value) instead, to perform the operation inplace on the original object.\n",
      "\n",
      "\n",
      "  df1['condition'].replace(range(40, 51), 4, inplace=True)\n"
     ]
    },
    {
     "data": {
      "text/plain": [
       "condition\n",
       "4.0    179895\n",
       "3.0    172479\n",
       "2.0    132490\n",
       "1.0     50931\n",
       "5.0     11222\n",
       "Name: count, dtype: int64"
      ]
     },
     "execution_count": 92,
     "metadata": {},
     "output_type": "execute_result"
    }
   ],
   "source": [
    "df1['condition'].replace(range(10, 21), 1, inplace=True)\n",
    "df1['condition'].replace(range(20, 31), 2, inplace=True)\n",
    "df1['condition'].replace(range(30, 41), 3, inplace=True)\n",
    "df1['condition'].replace(range(40, 51), 4, inplace=True)\n",
    "\n",
    "df1['condition'].value_counts()"
   ]
  },
  {
   "cell_type": "code",
   "execution_count": 185,
   "id": "89e123e3-7d52-45c5-9b5f-99208fd6473e",
   "metadata": {},
   "outputs": [
    {
     "data": {
      "text/plain": [
       "<Axes: xlabel='condition', ylabel='sellingprice'>"
      ]
     },
     "execution_count": 185,
     "metadata": {},
     "output_type": "execute_result"
    },
    {
     "data": {
      "image/png": "[encoded data removed]",
      "text/plain": [
       "<Figure size 640x480 with 1 Axes>"
      ]
     },
     "metadata": {},
     "output_type": "display_data"
    }
   ],
   "source": [
    "# sns.regplot(x = df1['condition'], y = df1['sellingprice'])\n",
    "sns.barplot(x = df1['condition'], y = df1['sellingprice'])"
   ]
  },
  {
   "cell_type": "code",
   "execution_count": 102,
   "id": "d5bb3321-022c-48fc-bce2-c33b55d693c3",
   "metadata": {},
   "outputs": [
    {
     "data": {
      "text/plain": [
       "color\n",
       "black        110970\n",
       "white        106673\n",
       "silver        83389\n",
       "gray          82857\n",
       "blue          51139\n",
       "red           43569\n",
       "—             24685\n",
       "green         11382\n",
       "gold          11342\n",
       "beige          9222\n",
       "burgundy       8972\n",
       "brown          6717\n",
       "orange         2078\n",
       "purple         1561\n",
       "off-white      1449\n",
       "yellow         1285\n",
       "charcoal        479\n",
       "turquoise       236\n",
       "pink             42\n",
       "lime             15\n",
       "9562              1\n",
       "2846              1\n",
       "18561             1\n",
       "18384             1\n",
       "5705              1\n",
       "2817              1\n",
       "6158              1\n",
       "721               1\n",
       "20627             1\n",
       "20379             1\n",
       "9837              1\n",
       "9887              1\n",
       "2172              1\n",
       "339               1\n",
       "6864              1\n",
       "2711              1\n",
       "11034             1\n",
       "16633             1\n",
       "6388              1\n",
       "15719             1\n",
       "12655             1\n",
       "14872             1\n",
       "1167              1\n",
       "9410              1\n",
       "4802              1\n",
       "5001              1\n",
       "Name: count, dtype: int64"
      ]
     },
     "execution_count": 102,
     "metadata": {},
     "output_type": "execute_result"
    }
   ],
   "source": [
    "df['color'].value_counts()"
   ]
  },
  {
   "cell_type": "code",
   "execution_count": 109,
   "id": "32beb629-2afc-47d6-a89c-cba1db51e764",
   "metadata": {},
   "outputs": [
    {
     "data": {
      "text/plain": [
       "color\n",
       "black        110970\n",
       "white        106673\n",
       "silver        83389\n",
       "gray          82857\n",
       "blue          51139\n",
       "red           43569\n",
       "other         24685\n",
       "green         11382\n",
       "gold          11342\n",
       "beige          9222\n",
       "burgundy       8972\n",
       "brown          6717\n",
       "orange         2078\n",
       "purple         1561\n",
       "off-white      1449\n",
       "yellow         1285\n",
       "charcoal        479\n",
       "turquoise       236\n",
       "pink             42\n",
       "lime             15\n",
       "Name: count, dtype: int64"
      ]
     },
     "execution_count": 109,
     "metadata": {},
     "output_type": "execute_result"
    }
   ],
   "source": [
    "unwnated_color = df1[(df1['color'] == '9562') | (df1['color'] == '2846') | (df1['color'] == '18561') | (df1['color'] == '18384') | (df1['color'] == '5705') | \n",
    "(df1['color'] == '2817') | (df1['color'] == '6158') | (df1['color'] == '721') | (df1['color'] == '20627') | (df1['color'] == '20379') | \n",
    "(df1['color'] == '9837') | (df1['color'] == '9887') | (df1['color'] == '2172') |( df1['color'] == '339') | (df1['color'] == '6864') |\n",
    "(df1['color'] == '2711') | (df1['color'] == '11034') | (df1['color'] == '16633') | (df1['color'] == '6388') | (df1['color'] == '15719') |\n",
    "(df1['color'] == '12655') | (df1['color'] == '14872') | (df1['color'] == '1167') | (df1['color'] == '9410')|\n",
    "(df1['color'] == '4802') | (df1['color'] == '5001') | (df1['color'] == 'nan')].index\n",
    "\n",
    "unwnated_color\n",
    "\n",
    "df1.drop(unwnated_color, inplace= True)\n",
    "\n",
    "df1.color.value_counts()"
   ]
  },
  {
   "cell_type": "markdown",
   "id": "a5f5bdc4-bd8f-4cfe-995d-5b6153c38713",
   "metadata": {},
   "source": [
    "## Got rid of the unwanted rows but there's still one '-' that needs to be replaced "
   ]
  },
  {
   "cell_type": "code",
   "execution_count": 107,
   "id": "6df33ad9-236d-4a53-8d2a-47787b27e4da",
   "metadata": {},
   "outputs": [],
   "source": [
    "df1['color'] = df1['color'].replace('—' , 'other')\n",
    "\n"
   ]
  },
  {
   "cell_type": "code",
   "execution_count": 112,
   "id": "0fcf0ecd-3569-419f-8bce-f56fa86f22b1",
   "metadata": {},
   "outputs": [
    {
     "data": {
      "text/plain": [
       "color\n",
       "black        110970\n",
       "white        106673\n",
       "silver        83389\n",
       "gray          82857\n",
       "blue          51139\n",
       "red           43569\n",
       "other         24685\n",
       "green         11382\n",
       "gold          11342\n",
       "beige          9222\n",
       "burgundy       8972\n",
       "brown          6717\n",
       "orange         2078\n",
       "purple         1561\n",
       "off-white      1449\n",
       "yellow         1285\n",
       "charcoal        479\n",
       "turquoise       236\n",
       "pink             42\n",
       "lime             15\n",
       "Name: count, dtype: int64"
      ]
     },
     "execution_count": 112,
     "metadata": {},
     "output_type": "execute_result"
    }
   ],
   "source": [
    "df1['color'].value_counts()"
   ]
  },
  {
   "cell_type": "code",
   "execution_count": 187,
   "id": "5064d61d-6f73-4b38-8449-f75dbbe285b1",
   "metadata": {},
   "outputs": [
    {
     "data": {
      "text/plain": [
       "<Axes: xlabel='count', ylabel='color'>"
      ]
     },
     "execution_count": 187,
     "metadata": {},
     "output_type": "execute_result"
    },
    {
     "data": {
      "image/png": "[encoded data removed]",
      "text/plain": [
       "<Figure size 640x480 with 1 Axes>"
      ]
     },
     "metadata": {},
     "output_type": "display_data"
    }
   ],
   "source": [
    "sns.countplot(df1['color'])"
   ]
  },
  {
   "cell_type": "code",
   "execution_count": null,
   "id": "53efc66d-3a54-4595-83a5-01265db6f5c6",
   "metadata": {},
   "outputs": [],
   "source": [
    "sns.barplot( x = df1['color'], y = df1['sellingprice'])"
   ]
  },
  {
   "cell_type": "markdown",
   "id": "a0892b89-b3ee-44d4-b316-e5f3514ce479",
   "metadata": {},
   "source": [
    "Don't need the 'vin' column"
   ]
  },
  {
   "cell_type": "code",
   "execution_count": 116,
   "id": "434d89ed-b81d-4108-90d9-1b884c056f2f",
   "metadata": {},
   "outputs": [],
   "source": [
    "df1 = df1.drop('vin', axis = 1)"
   ]
  },
  {
   "cell_type": "code",
   "execution_count": 132,
   "id": "5720966a-48b9-4009-a62d-9099f5839421",
   "metadata": {},
   "outputs": [
    {
     "data": {
      "text/plain": [
       "38"
      ]
     },
     "execution_count": 132,
     "metadata": {},
     "output_type": "execute_result"
    }
   ],
   "source": [
    "df1['state'].describe()\n",
    "df1['state'].nunique()"
   ]
  },
  {
   "cell_type": "markdown",
   "id": "3a1ce7f6-d801-4558-adc3-0500137b9ca9",
   "metadata": {},
   "source": [
    "### This shows that there are 38 different stated included in this dataset. Checking if there's any unwanted value in this"
   ]
  },
  {
   "cell_type": "code",
   "execution_count": 130,
   "id": "8b390574-5518-4386-b1eb-db757affa5f4",
   "metadata": {},
   "outputs": [
    {
     "data": {
      "text/plain": [
       "state\n",
       "fl    82945\n",
       "ca    73148\n",
       "pa    53907\n",
       "tx    45913\n",
       "ga    34750\n",
       "nj    27784\n",
       "il    23486\n",
       "nc    21845\n",
       "oh    21575\n",
       "tn    20895\n",
       "mo    16013\n",
       "mi    15511\n",
       "nv    12685\n",
       "va    12027\n",
       "md    11158\n",
       "wi     9851\n",
       "mn     9429\n",
       "az     8741\n",
       "co     7775\n",
       "wa     7416\n",
       "ma     6729\n",
       "ny     5699\n",
       "in     4325\n",
       "sc     4251\n",
       "ne     4013\n",
       "on     3442\n",
       "pr     2725\n",
       "la     2191\n",
       "ms     1851\n",
       "ut     1836\n",
       "qc     1245\n",
       "hi     1237\n",
       "or     1155\n",
       "ab      928\n",
       "nm      171\n",
       "ok       72\n",
       "ns       61\n",
       "al       26\n",
       "Name: count, dtype: int64"
      ]
     },
     "execution_count": 130,
     "metadata": {},
     "output_type": "execute_result"
    }
   ],
   "source": [
    "df1['state'].value_counts()"
   ]
  },
  {
   "cell_type": "code",
   "execution_count": 195,
   "id": "78d3ee28-29f0-4a22-a0ef-6d13b0590c69",
   "metadata": {},
   "outputs": [
    {
     "data": {
      "text/plain": [
       "<Axes: xlabel='count', ylabel='state'>"
      ]
     },
     "execution_count": 195,
     "metadata": {},
     "output_type": "execute_result"
    },
    {
     "data": {
      "image/png": "[encoded data removed]",
      "text/plain": [
       "<Figure size 640x480 with 1 Axes>"
      ]
     },
     "metadata": {},
     "output_type": "display_data"
    }
   ],
   "source": [
    "sns.countplot(df1['state'])"
   ]
  },
  {
   "cell_type": "markdown",
   "id": "3404afe8-7525-4bc8-be07-eabe8b6f7971",
   "metadata": {},
   "source": [
    "Have to convert 'state' to categorical for further visualization"
   ]
  },
  {
   "cell_type": "code",
   "execution_count": 221,
   "id": "f1f17bd7-f0dd-4255-bcd0-a3ca27dfe023",
   "metadata": {},
   "outputs": [
    {
     "name": "stdout",
     "output_type": "stream",
     "text": [
      "object\n"
     ]
    }
   ],
   "source": [
    "df1['state'] == df1['state'].astype('category')\n",
    "\n",
    "print(df1['state'].dtype)"
   ]
  },
  {
   "cell_type": "code",
   "execution_count": 217,
   "id": "1c7d2f58-22cd-485e-95c4-82ec0f0c5c26",
   "metadata": {},
   "outputs": [
    {
     "data": {
      "text/plain": [
       "state\n",
       "fl    82945\n",
       "ca    73148\n",
       "pa    53907\n",
       "tx    45913\n",
       "ga    34750\n",
       "nj    27784\n",
       "il    23486\n",
       "nc    21845\n",
       "oh    21575\n",
       "tn    20895\n",
       "mo    16013\n",
       "mi    15511\n",
       "nv    12685\n",
       "va    12027\n",
       "md    11158\n",
       "wi     9851\n",
       "mn     9429\n",
       "az     8741\n",
       "co     7775\n",
       "wa     7416\n",
       "ma     6729\n",
       "ny     5699\n",
       "in     4325\n",
       "sc     4251\n",
       "ne     4013\n",
       "on     3442\n",
       "pr     2725\n",
       "la     2191\n",
       "ms     1851\n",
       "ut     1836\n",
       "qc     1245\n",
       "hi     1237\n",
       "or     1155\n",
       "ab      928\n",
       "nm      171\n",
       "ok       72\n",
       "ns       61\n",
       "al       26\n",
       "Name: count, dtype: int64"
      ]
     },
     "execution_count": 217,
     "metadata": {},
     "output_type": "execute_result"
    }
   ],
   "source": [
    "df1['state'].value_counts()"
   ]
  },
  {
   "cell_type": "code",
   "execution_count": 223,
   "id": "57fca149-5f0d-46da-877e-fa61db51f127",
   "metadata": {},
   "outputs": [
    {
     "ename": "ValueError",
     "evalue": "The following variable cannot be assigned with wide-form data: `hue`",
     "output_type": "error",
     "traceback": [
      "\u001b[0;31m---------------------------------------------------------------------------\u001b[0m",
      "\u001b[0;31mValueError\u001b[0m                                Traceback (most recent call last)",
      "Cell \u001b[0;32mIn[223], line 1\u001b[0m\n\u001b[0;32m----> 1\u001b[0m sns\u001b[38;5;241m.\u001b[39mbarplot(df1[\u001b[38;5;124m'\u001b[39m\u001b[38;5;124msellingprice\u001b[39m\u001b[38;5;124m'\u001b[39m], hue \u001b[38;5;241m=\u001b[39m df1[\u001b[38;5;124m'\u001b[39m\u001b[38;5;124mstate\u001b[39m\u001b[38;5;124m'\u001b[39m])\n",
      "File \u001b[0;32m/opt/anaconda3/lib/python3.12/site-packages/seaborn/categorical.py:2341\u001b[0m, in \u001b[0;36mbarplot\u001b[0;34m(data, x, y, hue, order, hue_order, estimator, errorbar, n_boot, seed, units, weights, orient, color, palette, saturation, fill, hue_norm, width, dodge, gap, log_scale, native_scale, formatter, legend, capsize, err_kws, ci, errcolor, errwidth, ax, **kwargs)\u001b[0m\n\u001b[1;32m   2338\u001b[0m \u001b[38;5;28;01mif\u001b[39;00m estimator \u001b[38;5;129;01mis\u001b[39;00m \u001b[38;5;28mlen\u001b[39m:\n\u001b[1;32m   2339\u001b[0m     estimator \u001b[38;5;241m=\u001b[39m \u001b[38;5;124m\"\u001b[39m\u001b[38;5;124msize\u001b[39m\u001b[38;5;124m\"\u001b[39m\n\u001b[0;32m-> 2341\u001b[0m p \u001b[38;5;241m=\u001b[39m _CategoricalAggPlotter(\n\u001b[1;32m   2342\u001b[0m     data\u001b[38;5;241m=\u001b[39mdata,\n\u001b[1;32m   2343\u001b[0m     variables\u001b[38;5;241m=\u001b[39m\u001b[38;5;28mdict\u001b[39m(x\u001b[38;5;241m=\u001b[39mx, y\u001b[38;5;241m=\u001b[39my, hue\u001b[38;5;241m=\u001b[39mhue, units\u001b[38;5;241m=\u001b[39munits, weight\u001b[38;5;241m=\u001b[39mweights),\n\u001b[1;32m   2344\u001b[0m     order\u001b[38;5;241m=\u001b[39morder,\n\u001b[1;32m   2345\u001b[0m     orient\u001b[38;5;241m=\u001b[39morient,\n\u001b[1;32m   2346\u001b[0m     color\u001b[38;5;241m=\u001b[39mcolor,\n\u001b[1;32m   2347\u001b[0m     legend\u001b[38;5;241m=\u001b[39mlegend,\n\u001b[1;32m   2348\u001b[0m )\n\u001b[1;32m   2350\u001b[0m \u001b[38;5;28;01mif\u001b[39;00m ax \u001b[38;5;129;01mis\u001b[39;00m \u001b[38;5;28;01mNone\u001b[39;00m:\n\u001b[1;32m   2351\u001b[0m     ax \u001b[38;5;241m=\u001b[39m plt\u001b[38;5;241m.\u001b[39mgca()\n",
      "File \u001b[0;32m/opt/anaconda3/lib/python3.12/site-packages/seaborn/categorical.py:67\u001b[0m, in \u001b[0;36m_CategoricalPlotter.__init__\u001b[0;34m(self, data, variables, order, orient, require_numeric, color, legend)\u001b[0m\n\u001b[1;32m     56\u001b[0m \u001b[38;5;28;01mdef\u001b[39;00m \u001b[38;5;21m__init__\u001b[39m(\n\u001b[1;32m     57\u001b[0m     \u001b[38;5;28mself\u001b[39m,\n\u001b[1;32m     58\u001b[0m     data\u001b[38;5;241m=\u001b[39m\u001b[38;5;28;01mNone\u001b[39;00m,\n\u001b[0;32m   (...)\u001b[0m\n\u001b[1;32m     64\u001b[0m     legend\u001b[38;5;241m=\u001b[39m\u001b[38;5;124m\"\u001b[39m\u001b[38;5;124mauto\u001b[39m\u001b[38;5;124m\"\u001b[39m,\n\u001b[1;32m     65\u001b[0m ):\n\u001b[0;32m---> 67\u001b[0m     \u001b[38;5;28msuper\u001b[39m()\u001b[38;5;241m.\u001b[39m\u001b[38;5;21m__init__\u001b[39m(data\u001b[38;5;241m=\u001b[39mdata, variables\u001b[38;5;241m=\u001b[39mvariables)\n\u001b[1;32m     69\u001b[0m     \u001b[38;5;66;03m# This method takes care of some bookkeeping that is necessary because the\u001b[39;00m\n\u001b[1;32m     70\u001b[0m     \u001b[38;5;66;03m# original categorical plots (prior to the 2021 refactor) had some rules that\u001b[39;00m\n\u001b[1;32m     71\u001b[0m     \u001b[38;5;66;03m# don't fit exactly into VectorPlotter logic. It may be wise to have a second\u001b[39;00m\n\u001b[0;32m   (...)\u001b[0m\n\u001b[1;32m     76\u001b[0m     \u001b[38;5;66;03m# default VectorPlotter rules. If we do decide to make orient part of the\u001b[39;00m\n\u001b[1;32m     77\u001b[0m     \u001b[38;5;66;03m# _base variable assignment, we'll want to figure out how to express that.\u001b[39;00m\n\u001b[1;32m     78\u001b[0m     \u001b[38;5;28;01mif\u001b[39;00m \u001b[38;5;28mself\u001b[39m\u001b[38;5;241m.\u001b[39minput_format \u001b[38;5;241m==\u001b[39m \u001b[38;5;124m\"\u001b[39m\u001b[38;5;124mwide\u001b[39m\u001b[38;5;124m\"\u001b[39m \u001b[38;5;129;01mand\u001b[39;00m orient \u001b[38;5;129;01min\u001b[39;00m [\u001b[38;5;124m\"\u001b[39m\u001b[38;5;124mh\u001b[39m\u001b[38;5;124m\"\u001b[39m, \u001b[38;5;124m\"\u001b[39m\u001b[38;5;124my\u001b[39m\u001b[38;5;124m\"\u001b[39m]:\n",
      "File \u001b[0;32m/opt/anaconda3/lib/python3.12/site-packages/seaborn/_base.py:634\u001b[0m, in \u001b[0;36mVectorPlotter.__init__\u001b[0;34m(self, data, variables)\u001b[0m\n\u001b[1;32m    629\u001b[0m \u001b[38;5;66;03m# var_ordered is relevant only for categorical axis variables, and may\u001b[39;00m\n\u001b[1;32m    630\u001b[0m \u001b[38;5;66;03m# be better handled by an internal axis information object that tracks\u001b[39;00m\n\u001b[1;32m    631\u001b[0m \u001b[38;5;66;03m# such information and is set up by the scale_* methods. The analogous\u001b[39;00m\n\u001b[1;32m    632\u001b[0m \u001b[38;5;66;03m# information for numeric axes would be information about log scales.\u001b[39;00m\n\u001b[1;32m    633\u001b[0m \u001b[38;5;28mself\u001b[39m\u001b[38;5;241m.\u001b[39m_var_ordered \u001b[38;5;241m=\u001b[39m {\u001b[38;5;124m\"\u001b[39m\u001b[38;5;124mx\u001b[39m\u001b[38;5;124m\"\u001b[39m: \u001b[38;5;28;01mFalse\u001b[39;00m, \u001b[38;5;124m\"\u001b[39m\u001b[38;5;124my\u001b[39m\u001b[38;5;124m\"\u001b[39m: \u001b[38;5;28;01mFalse\u001b[39;00m}  \u001b[38;5;66;03m# alt., used DefaultDict\u001b[39;00m\n\u001b[0;32m--> 634\u001b[0m \u001b[38;5;28mself\u001b[39m\u001b[38;5;241m.\u001b[39massign_variables(data, variables)\n\u001b[1;32m    636\u001b[0m \u001b[38;5;66;03m# TODO Lots of tests assume that these are called to initialize the\u001b[39;00m\n\u001b[1;32m    637\u001b[0m \u001b[38;5;66;03m# mappings to default values on class initialization. I'd prefer to\u001b[39;00m\n\u001b[1;32m    638\u001b[0m \u001b[38;5;66;03m# move away from that and only have a mapping when explicitly called.\u001b[39;00m\n\u001b[1;32m    639\u001b[0m \u001b[38;5;28;01mfor\u001b[39;00m var \u001b[38;5;129;01min\u001b[39;00m [\u001b[38;5;124m\"\u001b[39m\u001b[38;5;124mhue\u001b[39m\u001b[38;5;124m\"\u001b[39m, \u001b[38;5;124m\"\u001b[39m\u001b[38;5;124msize\u001b[39m\u001b[38;5;124m\"\u001b[39m, \u001b[38;5;124m\"\u001b[39m\u001b[38;5;124mstyle\u001b[39m\u001b[38;5;124m\"\u001b[39m]:\n",
      "File \u001b[0;32m/opt/anaconda3/lib/python3.12/site-packages/seaborn/_base.py:673\u001b[0m, in \u001b[0;36mVectorPlotter.assign_variables\u001b[0;34m(self, data, variables)\u001b[0m\n\u001b[1;32m    671\u001b[0m \u001b[38;5;28;01mif\u001b[39;00m x \u001b[38;5;129;01mis\u001b[39;00m \u001b[38;5;28;01mNone\u001b[39;00m \u001b[38;5;129;01mand\u001b[39;00m y \u001b[38;5;129;01mis\u001b[39;00m \u001b[38;5;28;01mNone\u001b[39;00m:\n\u001b[1;32m    672\u001b[0m     \u001b[38;5;28mself\u001b[39m\u001b[38;5;241m.\u001b[39minput_format \u001b[38;5;241m=\u001b[39m \u001b[38;5;124m\"\u001b[39m\u001b[38;5;124mwide\u001b[39m\u001b[38;5;124m\"\u001b[39m\n\u001b[0;32m--> 673\u001b[0m     frame, names \u001b[38;5;241m=\u001b[39m \u001b[38;5;28mself\u001b[39m\u001b[38;5;241m.\u001b[39m_assign_variables_wideform(data, \u001b[38;5;241m*\u001b[39m\u001b[38;5;241m*\u001b[39mvariables)\n\u001b[1;32m    674\u001b[0m \u001b[38;5;28;01melse\u001b[39;00m:\n\u001b[1;32m    675\u001b[0m     \u001b[38;5;66;03m# When dealing with long-form input, use the newer PlotData\u001b[39;00m\n\u001b[1;32m    676\u001b[0m     \u001b[38;5;66;03m# object (internal but introduced for the objects interface)\u001b[39;00m\n\u001b[1;32m    677\u001b[0m     \u001b[38;5;66;03m# to centralize / standardize data consumption logic.\u001b[39;00m\n\u001b[1;32m    678\u001b[0m     \u001b[38;5;28mself\u001b[39m\u001b[38;5;241m.\u001b[39minput_format \u001b[38;5;241m=\u001b[39m \u001b[38;5;124m\"\u001b[39m\u001b[38;5;124mlong\u001b[39m\u001b[38;5;124m\"\u001b[39m\n",
      "File \u001b[0;32m/opt/anaconda3/lib/python3.12/site-packages/seaborn/_base.py:723\u001b[0m, in \u001b[0;36mVectorPlotter._assign_variables_wideform\u001b[0;34m(self, data, **kwargs)\u001b[0m\n\u001b[1;32m    721\u001b[0m     err \u001b[38;5;241m=\u001b[39m \u001b[38;5;124mf\u001b[39m\u001b[38;5;124m\"\u001b[39m\u001b[38;5;124mThe following variable\u001b[39m\u001b[38;5;132;01m{\u001b[39;00ms\u001b[38;5;132;01m}\u001b[39;00m\u001b[38;5;124m cannot be assigned with wide-form data: \u001b[39m\u001b[38;5;124m\"\u001b[39m\n\u001b[1;32m    722\u001b[0m     err \u001b[38;5;241m+\u001b[39m\u001b[38;5;241m=\u001b[39m \u001b[38;5;124m\"\u001b[39m\u001b[38;5;124m, \u001b[39m\u001b[38;5;124m\"\u001b[39m\u001b[38;5;241m.\u001b[39mjoin(\u001b[38;5;124mf\u001b[39m\u001b[38;5;124m\"\u001b[39m\u001b[38;5;124m`\u001b[39m\u001b[38;5;132;01m{\u001b[39;00mv\u001b[38;5;132;01m}\u001b[39;00m\u001b[38;5;124m`\u001b[39m\u001b[38;5;124m\"\u001b[39m \u001b[38;5;28;01mfor\u001b[39;00m v \u001b[38;5;129;01min\u001b[39;00m assigned)\n\u001b[0;32m--> 723\u001b[0m     \u001b[38;5;28;01mraise\u001b[39;00m \u001b[38;5;167;01mValueError\u001b[39;00m(err)\n\u001b[1;32m    725\u001b[0m \u001b[38;5;66;03m# Determine if the data object actually has any data in it\u001b[39;00m\n\u001b[1;32m    726\u001b[0m empty \u001b[38;5;241m=\u001b[39m data \u001b[38;5;129;01mis\u001b[39;00m \u001b[38;5;28;01mNone\u001b[39;00m \u001b[38;5;129;01mor\u001b[39;00m \u001b[38;5;129;01mnot\u001b[39;00m \u001b[38;5;28mlen\u001b[39m(data)\n",
      "\u001b[0;31mValueError\u001b[0m: The following variable cannot be assigned with wide-form data: `hue`"
     ]
    }
   ],
   "source": [
    "sns.barplot(df1['sellingprice'], hue = df1['state'])"
   ]
  },
  {
   "cell_type": "code",
   "execution_count": null,
   "id": "cc0823f4-a720-4a76-a2f3-44f56a298e42",
   "metadata": {},
   "outputs": [],
   "source": []
  }
 ],
 "metadata": {
  "kernelspec": {
   "display_name": "Python 3 (ipykernel)",
   "language": "python",
   "name": "python3"
  },
  "language_info": {
   "codemirror_mode": {
    "name": "ipython",
    "version": 3
   },
   "file_extension": ".py",
   "mimetype": "text/x-python",
   "name": "python",
   "nbconvert_exporter": "python",
   "pygments_lexer": "ipython3",
   "version": "3.12.4"
  }
 },
 "nbformat": 4,
 "nbformat_minor": 5
}
