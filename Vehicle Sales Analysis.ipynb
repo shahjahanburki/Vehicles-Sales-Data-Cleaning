{
 "cells": [
  {
   "cell_type": "code",
   "execution_count": 81,
   "id": "903abcb0-ca97-4008-a592-84754e08c063",
   "metadata": {},
   "outputs": [
    {
     "name": "stdout",
     "output_type": "stream",
     "text": [
      "Libraries Imported!\n"
     ]
    }
   ],
   "source": [
    "import pandas as pd \n",
    "import numpy as np\n",
    "from matplotlib import pyplot as plt\n",
    "import seaborn as sns\n",
    "\n",
    "print('Libraries Imported!')"
   ]
  },
  {
   "cell_type": "code",
   "execution_count": 3,
   "id": "cd8f4921-8b6f-46e7-8c22-fe12cf834441",
   "metadata": {},
   "outputs": [],
   "source": [
    "df = pd.read_csv('car_prices.csv')\n"
   ]
  },
  {
   "cell_type": "code",
   "execution_count": 400,
   "id": "b1e82d68-416b-40ac-a5ca-273052f34235",
   "metadata": {
    "scrolled": true
   },
   "outputs": [
    {
     "data": {
      "text/plain": [
       "(558837, 16)"
      ]
     },
     "execution_count": 400,
     "metadata": {},
     "output_type": "execute_result"
    }
   ],
   "source": [
    "df1 = df.copy()\n",
    "\n",
    "df1.dtypes\n",
    "df1.shape"
   ]
  },
  {
   "cell_type": "code",
   "execution_count": 229,
   "id": "03828be6-1148-4e85-a691-0a583c8118be",
   "metadata": {},
   "outputs": [
    {
     "data": {
      "text/html": [
       "<div>\n",
       "<style scoped>\n",
       "    .dataframe tbody tr th:only-of-type {\n",
       "        vertical-align: middle;\n",
       "    }\n",
       "\n",
       "    .dataframe tbody tr th {\n",
       "        vertical-align: top;\n",
       "    }\n",
       "\n",
       "    .dataframe thead th {\n",
       "        text-align: right;\n",
       "    }\n",
       "</style>\n",
       "<table border=\"1\" class=\"dataframe\">\n",
       "  <thead>\n",
       "    <tr style=\"text-align: right;\">\n",
       "      <th></th>\n",
       "      <th>year</th>\n",
       "      <th>make</th>\n",
       "      <th>model</th>\n",
       "      <th>trim</th>\n",
       "      <th>body</th>\n",
       "      <th>transmission</th>\n",
       "      <th>vin</th>\n",
       "      <th>state</th>\n",
       "      <th>condition</th>\n",
       "      <th>odometer</th>\n",
       "      <th>color</th>\n",
       "      <th>interior</th>\n",
       "      <th>seller</th>\n",
       "      <th>mmr</th>\n",
       "      <th>sellingprice</th>\n",
       "      <th>saledate</th>\n",
       "    </tr>\n",
       "  </thead>\n",
       "  <tbody>\n",
       "    <tr>\n",
       "      <th>0</th>\n",
       "      <td>2015</td>\n",
       "      <td>Kia</td>\n",
       "      <td>Sorento</td>\n",
       "      <td>LX</td>\n",
       "      <td>SUV</td>\n",
       "      <td>automatic</td>\n",
       "      <td>5xyktca69fg566472</td>\n",
       "      <td>ca</td>\n",
       "      <td>5.0</td>\n",
       "      <td>16639.0</td>\n",
       "      <td>white</td>\n",
       "      <td>black</td>\n",
       "      <td>kia motors america  inc</td>\n",
       "      <td>20500.0</td>\n",
       "      <td>21500.0</td>\n",
       "      <td>Tue Dec 16 2014 12:30:00 GMT-0800 (PST)</td>\n",
       "    </tr>\n",
       "  </tbody>\n",
       "</table>\n",
       "</div>"
      ],
      "text/plain": [
       "   year make    model trim body transmission                vin state  \\\n",
       "0  2015  Kia  Sorento   LX  SUV    automatic  5xyktca69fg566472    ca   \n",
       "\n",
       "   condition  odometer  color interior                   seller      mmr  \\\n",
       "0        5.0   16639.0  white    black  kia motors america  inc  20500.0   \n",
       "\n",
       "   sellingprice                                 saledate  \n",
       "0       21500.0  Tue Dec 16 2014 12:30:00 GMT-0800 (PST)  "
      ]
     },
     "execution_count": 229,
     "metadata": {},
     "output_type": "execute_result"
    }
   ],
   "source": [
    "df1.head(1)"
   ]
  },
  {
   "cell_type": "code",
   "execution_count": 232,
   "id": "0b405721-0f7f-4a22-97c2-13bec47b8556",
   "metadata": {},
   "outputs": [
    {
     "data": {
      "text/plain": [
       "0"
      ]
     },
     "execution_count": 232,
     "metadata": {},
     "output_type": "execute_result"
    }
   ],
   "source": [
    "df1['year'].nunique()\n",
    "df1['year'].isnull().sum()"
   ]
  },
  {
   "cell_type": "code",
   "execution_count": 234,
   "id": "39d866c2-9b18-49fa-861b-5afd93c022e0",
   "metadata": {},
   "outputs": [
    {
     "data": {
      "text/plain": [
       "10301"
      ]
     },
     "execution_count": 234,
     "metadata": {},
     "output_type": "execute_result"
    }
   ],
   "source": [
    "df1['make'].nunique()\n",
    "df1['make'].isnull().sum()"
   ]
  },
  {
   "cell_type": "code",
   "execution_count": 235,
   "id": "902aca06-9650-44be-b6a1-9b2bfcbcbf16",
   "metadata": {},
   "outputs": [
    {
     "data": {
      "text/plain": [
       "10651"
      ]
     },
     "execution_count": 235,
     "metadata": {},
     "output_type": "execute_result"
    }
   ],
   "source": [
    "df1['trim'].nunique()\n",
    "df1['trim'].isnull().sum()"
   ]
  },
  {
   "cell_type": "code",
   "execution_count": 238,
   "id": "cbd591a1-3806-494c-8b9b-158d1b58f237",
   "metadata": {},
   "outputs": [
    {
     "data": {
      "text/plain": [
       "13195"
      ]
     },
     "execution_count": 238,
     "metadata": {},
     "output_type": "execute_result"
    }
   ],
   "source": [
    "df1['body'].nunique()\n",
    "# df1['body'].describe()\n",
    "df1['body'].isnull().sum()"
   ]
  },
  {
   "cell_type": "code",
   "execution_count": 240,
   "id": "2218245b-cc27-40b5-ae6e-7191fe80689d",
   "metadata": {},
   "outputs": [
    {
     "data": {
      "text/plain": [
       "65352"
      ]
     },
     "execution_count": 240,
     "metadata": {},
     "output_type": "execute_result"
    }
   ],
   "source": [
    "df1['transmission'].unique()\n",
    "#df1['transmission'].describe()\n",
    "df1['transmission'].isnull().sum()"
   ]
  },
  {
   "cell_type": "code",
   "execution_count": 242,
   "id": "d0c686c5-7195-49fb-a363-843a5a6847ac",
   "metadata": {},
   "outputs": [
    {
     "data": {
      "text/plain": [
       "10399"
      ]
     },
     "execution_count": 242,
     "metadata": {},
     "output_type": "execute_result"
    }
   ],
   "source": [
    "df1['model'].unique()\n",
    "df1['model'].isnull().sum()"
   ]
  },
  {
   "cell_type": "code",
   "execution_count": 244,
   "id": "be8cd1d5-eeb4-441f-af42-34faad93d6b8",
   "metadata": {},
   "outputs": [
    {
     "data": {
      "text/plain": [
       "4"
      ]
     },
     "execution_count": 244,
     "metadata": {},
     "output_type": "execute_result"
    }
   ],
   "source": [
    "df1['vin'].nunique()\n",
    "df1['vin'].isnull().sum()"
   ]
  },
  {
   "cell_type": "code",
   "execution_count": 245,
   "id": "eff258b4-2978-4b8e-9a01-eb7d5a4365f4",
   "metadata": {},
   "outputs": [
    {
     "data": {
      "text/plain": [
       "0"
      ]
     },
     "execution_count": 245,
     "metadata": {},
     "output_type": "execute_result"
    }
   ],
   "source": [
    "df1['state'].nunique()\n",
    "df1['state'].isnull().sum()"
   ]
  },
  {
   "cell_type": "code",
   "execution_count": 248,
   "id": "8a1c67c1-4ff0-42df-b0f5-d2757bc87d45",
   "metadata": {},
   "outputs": [
    {
     "data": {
      "text/plain": [
       "11820"
      ]
     },
     "execution_count": 248,
     "metadata": {},
     "output_type": "execute_result"
    }
   ],
   "source": [
    "df1['condition'].nunique()\n",
    "df1['condition'].isnull().sum()\n",
    "# print(df1['condition'].max())\n",
    "# print(df['condition'].min())"
   ]
  },
  {
   "cell_type": "code",
   "execution_count": 250,
   "id": "97a20b5b-9b53-4cc3-a983-1cfb45d4a211",
   "metadata": {},
   "outputs": [
    {
     "data": {
      "text/plain": [
       "94"
      ]
     },
     "execution_count": 250,
     "metadata": {},
     "output_type": "execute_result"
    }
   ],
   "source": [
    "df1['odometer'].nunique()\n",
    "df1['odometer'].isnull().sum()"
   ]
  },
  {
   "cell_type": "code",
   "execution_count": 311,
   "id": "8d00db59-262c-4667-beec-34f4a864da2a",
   "metadata": {},
   "outputs": [
    {
     "data": {
      "text/plain": [
       "749"
      ]
     },
     "execution_count": 311,
     "metadata": {},
     "output_type": "execute_result"
    }
   ],
   "source": [
    "df1['color'].nunique()\n",
    "df1['color'].isnull().sum()"
   ]
  },
  {
   "cell_type": "code",
   "execution_count": 317,
   "id": "c9ab4d40-9a2b-4ce9-a8b9-c51155387b55",
   "metadata": {},
   "outputs": [
    {
     "data": {
      "text/plain": [
       "749"
      ]
     },
     "execution_count": 317,
     "metadata": {},
     "output_type": "execute_result"
    }
   ],
   "source": [
    "df1['interior'].nunique()\n",
    "df1['interior'].isnull().sum()"
   ]
  },
  {
   "cell_type": "code",
   "execution_count": 256,
   "id": "cc0f3b21-e965-4e8d-a961-743b0eb1212b",
   "metadata": {},
   "outputs": [
    {
     "data": {
      "text/plain": [
       "0"
      ]
     },
     "execution_count": 256,
     "metadata": {},
     "output_type": "execute_result"
    }
   ],
   "source": [
    "df1['seller'].nunique()\n",
    "df1['seller'].isnull().sum()"
   ]
  },
  {
   "cell_type": "code",
   "execution_count": 258,
   "id": "ea32ce85-09b7-42d3-977c-ef16e4e0a595",
   "metadata": {},
   "outputs": [
    {
     "data": {
      "text/plain": [
       "38"
      ]
     },
     "execution_count": 258,
     "metadata": {},
     "output_type": "execute_result"
    }
   ],
   "source": [
    "df1['mmr'].nunique()\n",
    "df1['mmr'].isnull().sum()"
   ]
  },
  {
   "cell_type": "code",
   "execution_count": 260,
   "id": "104dd71e-d12f-4344-8315-b278490afef8",
   "metadata": {},
   "outputs": [
    {
     "data": {
      "text/plain": [
       "12"
      ]
     },
     "execution_count": 260,
     "metadata": {},
     "output_type": "execute_result"
    }
   ],
   "source": [
    "df1['sellingprice'].nunique()\n",
    "df1['sellingprice'].isnull().sum()"
   ]
  },
  {
   "cell_type": "code",
   "execution_count": 262,
   "id": "20c2dc9d-c293-4dc9-a0af-ca44294e8d34",
   "metadata": {},
   "outputs": [
    {
     "data": {
      "text/plain": [
       "12"
      ]
     },
     "execution_count": 262,
     "metadata": {},
     "output_type": "execute_result"
    }
   ],
   "source": [
    "df1['saledate'].nunique()\n",
    "df1['saledate'].isnull().sum()"
   ]
  },
  {
   "cell_type": "code",
   "execution_count": 264,
   "id": "a6882141-816d-4bcb-916a-5f88ae2246b0",
   "metadata": {},
   "outputs": [
    {
     "data": {
      "text/plain": [
       "<matplotlib.collections.PathCollection at 0x134f4ab70>"
      ]
     },
     "execution_count": 264,
     "metadata": {},
     "output_type": "execute_result"
    },
    {
     "data": {
      "image/png": "[encoded data removed]",
      "text/plain": [
       "<Figure size 640x480 with 1 Axes>"
      ]
     },
     "metadata": {},
     "output_type": "display_data"
    }
   ],
   "source": [
    "plt.scatter(x = df['year'], y = df['sellingprice'])"
   ]
  },
  {
   "cell_type": "code",
   "execution_count": 266,
   "id": "ad3f2c73-9805-48dc-a544-19bbc0594a06",
   "metadata": {},
   "outputs": [
    {
     "data": {
      "text/plain": [
       "<Axes: xlabel='transmission', ylabel='sellingprice'>"
      ]
     },
     "execution_count": 266,
     "metadata": {},
     "output_type": "execute_result"
    },
    {
     "data": {
      "image/png": "[encoded data removed]",
      "text/plain": [
       "<Figure size 640x480 with 1 Axes>"
      ]
     },
     "metadata": {},
     "output_type": "display_data"
    }
   ],
   "source": [
    "sns.barplot(x = df1['transmission'], y = df1['sellingprice'])"
   ]
  },
  {
   "cell_type": "code",
   "execution_count": 267,
   "id": "c4efa623-cdd5-4ae0-8b92-e9248e5673cf",
   "metadata": {},
   "outputs": [
    {
     "data": {
      "text/plain": [
       "transmission\n",
       "automatic    475915\n",
       "manual        17544\n",
       "sedan            15\n",
       "Sedan            11\n",
       "Name: count, dtype: int64"
      ]
     },
     "execution_count": 267,
     "metadata": {},
     "output_type": "execute_result"
    }
   ],
   "source": [
    "df1['transmission'].value_counts()"
   ]
  },
  {
   "cell_type": "markdown",
   "id": "23104388-c507-4d8a-bb23-d7885a6c0c96",
   "metadata": {},
   "source": [
    "## Because this is a categorical value and the difference between Manual and Auto is huge, I'll use Mod and replace the values of the null values with Automatic "
   ]
  },
  {
   "cell_type": "code",
   "execution_count": 402,
   "id": "9a3594b0-980c-42c5-bc8a-8a58d4c53d24",
   "metadata": {},
   "outputs": [
    {
     "name": "stderr",
     "output_type": "stream",
     "text": [
      "/var/folders/ch/kb1qmx591n5c2yvx2fc6ffyw0000gn/T/ipykernel_48525/4186971295.py:1: FutureWarning: A value is trying to be set on a copy of a DataFrame or Series through chained assignment using an inplace method.\n",
      "The behavior will change in pandas 3.0. This inplace method will never work because the intermediate object on which we are setting values always behaves as a copy.\n",
      "\n",
      "For example, when doing 'df[col].method(value, inplace=True)', try using 'df.method({col: value}, inplace=True)' or df[col] = df[col].method(value) instead, to perform the operation inplace on the original object.\n",
      "\n",
      "\n",
      "  df1['transmission'].fillna('automatic', inplace= True)\n"
     ]
    },
    {
     "data": {
      "text/plain": [
       "0"
      ]
     },
     "execution_count": 402,
     "metadata": {},
     "output_type": "execute_result"
    }
   ],
   "source": [
    "df1['transmission'].fillna('automatic', inplace= True)\n",
    "\n",
    "df1['transmission'].isnull().sum()"
   ]
  },
  {
   "cell_type": "code",
   "execution_count": 404,
   "id": "75644333-790e-4882-9a78-260d06df2c10",
   "metadata": {},
   "outputs": [
    {
     "data": {
      "text/plain": [
       "array(['automatic', 'manual'], dtype=object)"
      ]
     },
     "execution_count": 404,
     "metadata": {},
     "output_type": "execute_result"
    }
   ],
   "source": [
    "unwanted = df1[(df1['transmission'] == 'Sedan') | (df1['transmission'] == 'sedan')].index\n",
    "df1.drop(unwanted, inplace= True)\n",
    "\n",
    "df1['transmission'].unique()"
   ]
  },
  {
   "cell_type": "markdown",
   "id": "4f58bd07-160c-457d-b736-b2003faf0fc9",
   "metadata": {},
   "source": [
    "## Now we have the values that are relavent so we can visualize this data easily."
   ]
  },
  {
   "cell_type": "code",
   "execution_count": 272,
   "id": "a8ab7220-1bb0-49c8-a4a3-ae98a1c561ee",
   "metadata": {},
   "outputs": [
    {
     "data": {
      "text/plain": [
       "<Axes: xlabel='transmission', ylabel='sellingprice'>"
      ]
     },
     "execution_count": 272,
     "metadata": {},
     "output_type": "execute_result"
    },
    {
     "data": {
      "image/png": "[encoded data removed]",
      "text/plain": [
       "<Figure size 640x480 with 1 Axes>"
      ]
     },
     "metadata": {},
     "output_type": "display_data"
    }
   ],
   "source": [
    "sns.barplot( x = df1['transmission'], y = df1['sellingprice'])"
   ]
  },
  {
   "cell_type": "markdown",
   "id": "ef769418-1166-49a5-9435-61e5f8713f51",
   "metadata": {},
   "source": [
    "## The condition value has to be fixed next "
   ]
  },
  {
   "cell_type": "code",
   "execution_count": 406,
   "id": "2d814f95-7e39-4f1f-9d62-f25113b54392",
   "metadata": {},
   "outputs": [
    {
     "name": "stderr",
     "output_type": "stream",
     "text": [
      "/var/folders/ch/kb1qmx591n5c2yvx2fc6ffyw0000gn/T/ipykernel_48525/3684880069.py:1: FutureWarning: A value is trying to be set on a copy of a DataFrame or Series through chained assignment using an inplace method.\n",
      "The behavior will change in pandas 3.0. This inplace method will never work because the intermediate object on which we are setting values always behaves as a copy.\n",
      "\n",
      "For example, when doing 'df[col].method(value, inplace=True)', try using 'df.method({col: value}, inplace=True)' or df[col] = df[col].method(value) instead, to perform the operation inplace on the original object.\n",
      "\n",
      "\n",
      "  df1['condition'].replace(range(10, 21), 1, inplace=True)\n",
      "/var/folders/ch/kb1qmx591n5c2yvx2fc6ffyw0000gn/T/ipykernel_48525/3684880069.py:2: FutureWarning: A value is trying to be set on a copy of a DataFrame or Series through chained assignment using an inplace method.\n",
      "The behavior will change in pandas 3.0. This inplace method will never work because the intermediate object on which we are setting values always behaves as a copy.\n",
      "\n",
      "For example, when doing 'df[col].method(value, inplace=True)', try using 'df.method({col: value}, inplace=True)' or df[col] = df[col].method(value) instead, to perform the operation inplace on the original object.\n",
      "\n",
      "\n",
      "  df1['condition'].replace(range(20, 31), 2, inplace=True)\n",
      "/var/folders/ch/kb1qmx591n5c2yvx2fc6ffyw0000gn/T/ipykernel_48525/3684880069.py:3: FutureWarning: A value is trying to be set on a copy of a DataFrame or Series through chained assignment using an inplace method.\n",
      "The behavior will change in pandas 3.0. This inplace method will never work because the intermediate object on which we are setting values always behaves as a copy.\n",
      "\n",
      "For example, when doing 'df[col].method(value, inplace=True)', try using 'df.method({col: value}, inplace=True)' or df[col] = df[col].method(value) instead, to perform the operation inplace on the original object.\n",
      "\n",
      "\n",
      "  df1['condition'].replace(range(30, 41), 3, inplace=True)\n",
      "/var/folders/ch/kb1qmx591n5c2yvx2fc6ffyw0000gn/T/ipykernel_48525/3684880069.py:4: FutureWarning: A value is trying to be set on a copy of a DataFrame or Series through chained assignment using an inplace method.\n",
      "The behavior will change in pandas 3.0. This inplace method will never work because the intermediate object on which we are setting values always behaves as a copy.\n",
      "\n",
      "For example, when doing 'df[col].method(value, inplace=True)', try using 'df.method({col: value}, inplace=True)' or df[col] = df[col].method(value) instead, to perform the operation inplace on the original object.\n",
      "\n",
      "\n",
      "  df1['condition'].replace(range(40, 51), 4, inplace=True)\n"
     ]
    },
    {
     "data": {
      "text/plain": [
       "condition\n",
       "4.0    179895\n",
       "3.0    172479\n",
       "2.0    132490\n",
       "1.0     50931\n",
       "5.0     11222\n",
       "Name: count, dtype: int64"
      ]
     },
     "execution_count": 406,
     "metadata": {},
     "output_type": "execute_result"
    }
   ],
   "source": [
    "df1['condition'].replace(range(10, 21), 1, inplace=True)\n",
    "df1['condition'].replace(range(20, 31), 2, inplace=True)\n",
    "df1['condition'].replace(range(30, 41), 3, inplace=True)\n",
    "df1['condition'].replace(range(40, 51), 4, inplace=True)\n",
    "\n",
    "df1['condition'].value_counts()"
   ]
  },
  {
   "cell_type": "code",
   "execution_count": null,
   "id": "c70c6a1e-0ff3-48eb-8948-893ace7f769c",
   "metadata": {},
   "outputs": [],
   "source": []
  },
  {
   "cell_type": "code",
   "execution_count": 408,
   "id": "dc737441-0f57-449f-ba91-a8a95e8e39f3",
   "metadata": {},
   "outputs": [
    {
     "name": "stderr",
     "output_type": "stream",
     "text": [
      "/var/folders/ch/kb1qmx591n5c2yvx2fc6ffyw0000gn/T/ipykernel_48525/3669966273.py:1: FutureWarning: A value is trying to be set on a copy of a DataFrame or Series through chained assignment using an inplace method.\n",
      "The behavior will change in pandas 3.0. This inplace method will never work because the intermediate object on which we are setting values always behaves as a copy.\n",
      "\n",
      "For example, when doing 'df[col].method(value, inplace=True)', try using 'df.method({col: value}, inplace=True)' or df[col] = df[col].method(value) instead, to perform the operation inplace on the original object.\n",
      "\n",
      "\n",
      "  df1['condition'].fillna(avg_cond, inplace= True)\n"
     ]
    },
    {
     "data": {
      "text/plain": [
       "11794"
      ]
     },
     "execution_count": 408,
     "metadata": {},
     "output_type": "execute_result"
    }
   ],
   "source": [
    "df1['condition'].fillna(avg_cond, inplace= True)\n",
    "\n",
    "df1['condition'].isnull().sum()"
   ]
  },
  {
   "cell_type": "code",
   "execution_count": 224,
   "id": "89e123e3-7d52-45c5-9b5f-99208fd6473e",
   "metadata": {},
   "outputs": [
    {
     "data": {
      "text/plain": [
       "<Axes: xlabel='condition', ylabel='sellingprice'>"
      ]
     },
     "execution_count": 224,
     "metadata": {},
     "output_type": "execute_result"
    },
    {
     "data": {
      "image/png": "[encoded data removed]",
      "text/plain": [
       "<Figure size 640x480 with 1 Axes>"
      ]
     },
     "metadata": {},
     "output_type": "display_data"
    }
   ],
   "source": [
    "# sns.regplot(x = df1['condition'], y = df1['sellingprice'])\n",
    "sns.barplot(x = df1['condition'], y = df1['sellingprice'])"
   ]
  },
  {
   "cell_type": "code",
   "execution_count": 410,
   "id": "d5bb3321-022c-48fc-bce2-c33b55d693c3",
   "metadata": {},
   "outputs": [
    {
     "data": {
      "text/plain": [
       "color\n",
       "black        110970\n",
       "white        106673\n",
       "silver        83389\n",
       "gray          82857\n",
       "blue          51139\n",
       "red           43569\n",
       "—             24685\n",
       "green         11382\n",
       "gold          11342\n",
       "beige          9222\n",
       "burgundy       8972\n",
       "brown          6717\n",
       "orange         2078\n",
       "purple         1561\n",
       "off-white      1449\n",
       "yellow         1285\n",
       "charcoal        479\n",
       "turquoise       236\n",
       "pink             42\n",
       "lime             15\n",
       "9562              1\n",
       "2846              1\n",
       "18561             1\n",
       "18384             1\n",
       "5705              1\n",
       "2817              1\n",
       "6158              1\n",
       "721               1\n",
       "20627             1\n",
       "20379             1\n",
       "9837              1\n",
       "9887              1\n",
       "2172              1\n",
       "339               1\n",
       "6864              1\n",
       "2711              1\n",
       "11034             1\n",
       "16633             1\n",
       "6388              1\n",
       "15719             1\n",
       "12655             1\n",
       "14872             1\n",
       "1167              1\n",
       "9410              1\n",
       "4802              1\n",
       "5001              1\n",
       "Name: count, dtype: int64"
      ]
     },
     "execution_count": 410,
     "metadata": {},
     "output_type": "execute_result"
    }
   ],
   "source": [
    "df['color'].value_counts()"
   ]
  },
  {
   "cell_type": "code",
   "execution_count": 412,
   "id": "32beb629-2afc-47d6-a89c-cba1db51e764",
   "metadata": {},
   "outputs": [
    {
     "data": {
      "text/plain": [
       "color\n",
       "black        110970\n",
       "white        106673\n",
       "silver        83389\n",
       "gray          82857\n",
       "blue          51139\n",
       "red           43569\n",
       "—             24685\n",
       "green         11382\n",
       "gold          11342\n",
       "beige          9222\n",
       "burgundy       8972\n",
       "brown          6717\n",
       "orange         2078\n",
       "purple         1561\n",
       "off-white      1449\n",
       "yellow         1285\n",
       "charcoal        479\n",
       "turquoise       236\n",
       "pink             42\n",
       "lime             15\n",
       "Name: count, dtype: int64"
      ]
     },
     "execution_count": 412,
     "metadata": {},
     "output_type": "execute_result"
    }
   ],
   "source": [
    "unwnated_color = df1[(df1['color'] == '9562') | (df1['color'] == '2846') | (df1['color'] == '18561') | (df1['color'] == '18384') | (df1['color'] == '5705') | \n",
    "(df1['color'] == '2817') | (df1['color'] == '6158') | (df1['color'] == '721') | (df1['color'] == '20627') | (df1['color'] == '20379') | \n",
    "(df1['color'] == '9837') | (df1['color'] == '9887') | (df1['color'] == '2172') |( df1['color'] == '339') | (df1['color'] == '6864') |\n",
    "(df1['color'] == '2711') | (df1['color'] == '11034') | (df1['color'] == '16633') | (df1['color'] == '6388') | (df1['color'] == '15719') |\n",
    "(df1['color'] == '12655') | (df1['color'] == '14872') | (df1['color'] == '1167') | (df1['color'] == '9410')|\n",
    "(df1['color'] == '4802') | (df1['color'] == '5001')].index\n",
    "\n",
    "unwnated_color\n",
    "\n",
    "df1.drop(unwnated_color, inplace= True)\n",
    "\n",
    "df1.color.value_counts()"
   ]
  },
  {
   "cell_type": "markdown",
   "id": "a5f5bdc4-bd8f-4cfe-995d-5b6153c38713",
   "metadata": {},
   "source": [
    "## Got rid of the unwanted rows but there's still one '-' that needs to be replaced "
   ]
  },
  {
   "cell_type": "code",
   "execution_count": 446,
   "id": "6df33ad9-236d-4a53-8d2a-47787b27e4da",
   "metadata": {},
   "outputs": [],
   "source": [
    "df1['color'] = df1['color'].replace('—' , 'other')\n",
    "\n"
   ]
  },
  {
   "cell_type": "code",
   "execution_count": 448,
   "id": "0fcf0ecd-3569-419f-8bce-f56fa86f22b1",
   "metadata": {},
   "outputs": [
    {
     "data": {
      "text/plain": [
       "color\n",
       "black        110970\n",
       "white        106673\n",
       "silver        83389\n",
       "gray          82857\n",
       "blue          51139\n",
       "red           43569\n",
       "other         24685\n",
       "green         11382\n",
       "gold          11342\n",
       "beige          9222\n",
       "burgundy       8972\n",
       "brown          6717\n",
       "orange         2078\n",
       "purple         1561\n",
       "off-white      1449\n",
       "yellow         1285\n",
       "nan             749\n",
       "charcoal        479\n",
       "turquoise       236\n",
       "pink             42\n",
       "lime             15\n",
       "Name: count, dtype: int64"
      ]
     },
     "execution_count": 448,
     "metadata": {},
     "output_type": "execute_result"
    }
   ],
   "source": [
    "df1['color'].value_counts()"
   ]
  },
  {
   "cell_type": "code",
   "execution_count": 480,
   "id": "5064d61d-6f73-4b38-8449-f75dbbe285b1",
   "metadata": {},
   "outputs": [
    {
     "data": {
      "text/plain": [
       "<Axes: ylabel='color'>"
      ]
     },
     "execution_count": 480,
     "metadata": {},
     "output_type": "execute_result"
    },
    {
     "data": {
      "image/png": "[encoded data removed]",
      "text/plain": [
       "<Figure size 640x480 with 1 Axes>"
      ]
     },
     "metadata": {},
     "output_type": "display_data"
    }
   ],
   "source": [
    "sns.barplot(df1['color'])"
   ]
  },
  {
   "cell_type": "code",
   "execution_count": null,
   "id": "53efc66d-3a54-4595-83a5-01265db6f5c6",
   "metadata": {},
   "outputs": [],
   "source": []
  }
 ],
 "metadata": {
  "kernelspec": {
   "display_name": "Python 3 (ipykernel)",
   "language": "python",
   "name": "python3"
  },
  "language_info": {
   "codemirror_mode": {
    "name": "ipython",
    "version": 3
   },
   "file_extension": ".py",
   "mimetype": "text/x-python",
   "name": "python",
   "nbconvert_exporter": "python",
   "pygments_lexer": "ipython3",
   "version": "3.12.4"
  }
 },
 "nbformat": 4,
 "nbformat_minor": 5
}
